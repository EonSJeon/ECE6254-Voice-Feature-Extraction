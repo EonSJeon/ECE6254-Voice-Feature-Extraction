{
 "cells": [
  {
   "cell_type": "code",
   "execution_count": null,
   "metadata": {},
   "outputs": [],
   "source": [
    "import pandas as pd\n",
    "import librosa\n",
    "import numpy as np\n",
    "from numpy.random import choice\n",
    "import scipy\n",
    "import pickle\n",
    "import os\n",
    "from sklearn.preprocessing import LabelEncoder\n",
    "from sklearn.feature_selection import SelectKBest, f_classif\n",
    "from sklearn.model_selection import train_test_split, GridSearchCV\n",
    "from sklearn.preprocessing import StandardScaler\n",
    "from sklearn.svm import SVC\n",
    "from sklearn.linear_model import LogisticRegression\n",
    "from sklearn.naive_bayes import GaussianNB\n",
    "from sklearn.metrics import accuracy_score\n",
    "from sklearn.metrics import classification_report, confusion_matrix\n",
    "from sklearn.tree import DecisionTreeClassifier\n",
    "from sklearn.neighbors import KNeighborsClassifier\n",
    "from sklearn.ensemble import RandomForestClassifier\n",
    "from sklearn.pipeline import Pipeline\n",
    "import joblib\n",
    "import matplotlib.pyplot as plt\n",
    "import seaborn as sns"
   ]
  },
  {
   "cell_type": "code",
   "execution_count": 2,
   "metadata": {},
   "outputs": [
    {
     "name": "stdout",
     "output_type": "stream",
     "text": [
      "age\n",
      "middle-age    3262\n",
      "youth         2138\n",
      "adult         1783\n",
      "Name: count, dtype: int64\n",
      "7183\n"
     ]
    }
   ],
   "source": [
    "# Adjust these paths as needed after checking your unzipped files\n",
    "AUDIO_ROOT = '/content/gdrive/MyDrive/ECE6254 Proj/AUDIO'  # Adjust if folder name is different\n",
    "MFCC_ROOT = '/content/gdrive/MyDrive/ECE6254 Proj/MFCC'\n",
    "\n",
    "datasets = ['cv-valid-train', 'cv-valid-dev', 'cv-valid-test']\n",
    "df_combined = []\n",
    "\n",
    "for dataset in datasets:\n",
    "    csv_file = f'{dataset}.csv'\n",
    "    dftrain = pd.read_csv(csv_file)\n",
    "    if (dataset == 'cv-valid-train'):\n",
    "        dftrain = dftrain[dftrain['filename'] <= \"cv-valid-train/sample-018122.mp3\"]\n",
    "\n",
    "    # Drop rows with missing gender\n",
    "    dftrain = dftrain.dropna(subset=['gender'])\n",
    "\n",
    "    # Drop rows with missing age\n",
    "    dftrain = dftrain.dropna(subset=['age'])\n",
    "    valid_ages = ['teens', 'twenties', 'thirties', 'fourties', 'fifties', 'sixties']\n",
    "    dftrain = dftrain[dftrain['age'].isin(valid_ages)]\n",
    "\n",
    "    # Drop unused 'duration' column (100% NaN in some releases)\n",
    "    if 'duration' in dftrain.columns:\n",
    "        dftrain = dftrain.drop('duration', axis=1, errors='ignore')\n",
    "\n",
    "    # Drop rows with missing accent\n",
    "    dftrain = dftrain.dropna(subset=['accent'])\n",
    "    valid_accents = ['england', 'indian', 'australia', 'scotland', 'us', 'ireland']\n",
    "    dftrain = dftrain[dftrain['accent'].isin(valid_accents)]\n",
    "    for index, row in dftrain.iterrows():\n",
    "        if row['age'] in ['teen', 'twenties']:\n",
    "            dftrain.at[index, 'age'] = 'youth'\n",
    "        elif row['age'] in ['thirties', 'forties']:\n",
    "            dftrain.at[index, 'age'] = 'adult'\n",
    "        else:\n",
    "            dftrain.at[index, 'age'] = 'middle-age'\n",
    "    df_combined.append(dftrain)\n",
    "\n",
    "dftrain = pd.concat(df_combined, ignore_index=True)\n",
    "print(dftrain.value_counts('age'))\n",
    "print(len(dftrain))"
   ]
  },
  {
   "cell_type": "code",
   "execution_count": null,
   "metadata": {},
   "outputs": [],
   "source": [
    "def drop_random_samples(df, age, n):\n",
    "    indices = df[df['age'] == age].index\n",
    "    drop_indices = choice(indices, size=n, replace=False)\n",
    "    return df.drop(drop_indices)\n",
    "\n",
    "age_counts = dftrain['age'].value_counts()\n",
    "min_count = age_counts.values.min()\n",
    "for age in age_counts.index:\n",
    "    current_count = age_counts[age]\n",
    "    if current_count > min_count:\n",
    "        dftrain = drop_random_samples(dftrain, age, current_count - min_count)"
   ]
  },
  {
   "cell_type": "code",
   "execution_count": null,
   "metadata": {},
   "outputs": [
    {
     "name": "stdout",
     "output_type": "stream",
     "text": [
      "age_encoded\n",
      "2    1783\n",
      "0    1783\n",
      "1    1783\n",
      "Name: count, dtype: int64\n",
      "['adult' 'middle-age' 'youth']\n"
     ]
    }
   ],
   "source": [
    "label_encoder = LabelEncoder()\n",
    "dftrain['age_encoded'] = label_encoder.fit_transform(dftrain['age'])\n",
    "print(dftrain['age_encoded'].value_counts())\n",
    "print(label_encoder.classes_)"
   ]
  },
  {
   "cell_type": "code",
   "execution_count": 7,
   "metadata": {},
   "outputs": [],
   "source": [
    "dftrain.to_csv('age.csv', index=False)"
   ]
  },
  {
   "cell_type": "code",
   "execution_count": null,
   "metadata": {},
   "outputs": [],
   "source": [
    "all_features = []\n",
    "for index, row in dftrain.iterrows():\n",
    "    features = np.array([])\n",
    "    dataset = row['filename'].split('/')[0]\n",
    "    file_path = os.path.join(dataset, row['filename'])\n",
    "    print(f\"Processing {file_path}\")\n",
    "    try:\n",
    "        audio, sr = librosa.load(file_path, sr=None)\n",
    "    except Exception as e:\n",
    "        print(f\"Error processing file {file_path}: {e}\")\n",
    "    # RMS Energy\n",
    "    features = np.append(features, [np.mean(librosa.feature.rms(y=audio)[0])])\n",
    "    # Zero-Crossing Rate\n",
    "    features = np.append(features, [np.mean(librosa.feature.zero_crossing_rate(y=audio))])\n",
    "    # Tempo\n",
    "    features = np.append(features, [librosa.feature.tempo(y=audio, sr=sr)[0]])\n",
    "    # Spectral Features\n",
    "    spec_centroid = np.mean(librosa.feature.spectral_centroid(y=audio, sr=sr)[0])\n",
    "    spectral_bandwidth = np.mean(librosa.feature.spectral_bandwidth(y=audio, sr=sr)[0])\n",
    "    spectral_contrast = np.mean(librosa.feature.spectral_contrast(y=audio, sr=sr)[0])\n",
    "    spectral_flatness = np.mean(librosa.feature.spectral_flatness(y=audio)[0])\n",
    "    spectral_rolloff = np.mean(librosa.feature.spectral_rolloff(y=audio, sr=sr)[0])\n",
    "    features = np.append(features, [spec_centroid, spectral_bandwidth, spectral_contrast, spectral_flatness, spectral_rolloff])\n",
    "    # Fundamental Frequency\n",
    "    f0, voiced_flag, voiced_probs = librosa.pyin(audio, sr=sr, fmin=50, fmax=1000)\n",
    "    voiced_f0 = f0[~np.isnan(f0)]\n",
    "    mean_f0 = np.mean(voiced_f0) if len(voiced_f0) > 0 else 0\n",
    "    features = np.append(features, [mean_f0])\n",
    "    all_features.append(features)"
   ]
  },
  {
   "cell_type": "code",
   "execution_count": null,
   "metadata": {},
   "outputs": [],
   "source": [
    "with open(\"all_features\", \"wb\") as f:\n",
    "    pickle.dump(all_features, f)"
   ]
  },
  {
   "cell_type": "code",
   "execution_count": null,
   "metadata": {},
   "outputs": [],
   "source": [
    "all_mfccs = []\n",
    "for index, row in dftrain.iterrows():\n",
    "    dataset = row['filename'].split('/')[0]\n",
    "    file_path = os.path.join(dataset, row['filename'])\n",
    "    print(f\"Processing {file_path}\")\n",
    "    y, sr = librosa.load(file_path, sr=None)\n",
    "\n",
    "    # Define MFCC extraction parameters:\n",
    "    # 25 ms window length, 10 ms hop length, Hann window, n_mfcc=20\n",
    "    n_fft = int(sr * 0.025)      # 25 ms in samples\n",
    "    hop_length = int(sr * 0.010)   # 10 ms in samples\n",
    "\n",
    "    # Compute MFCC spectrogram\n",
    "    mfcc = librosa.feature.mfcc(\n",
    "        y=y,\n",
    "        sr=sr,\n",
    "        n_mfcc=20,\n",
    "        n_fft=n_fft,\n",
    "        win_length=n_fft,\n",
    "        hop_length=hop_length,\n",
    "        window='hann'\n",
    "    )\n",
    "    all_mfccs.append(mfcc)"
   ]
  },
  {
   "cell_type": "code",
   "execution_count": 21,
   "metadata": {},
   "outputs": [],
   "source": [
    "mfcc_len = []\n",
    "for mfcc in all_mfccs:\n",
    "    mfcc_len.append(mfcc.shape[1])\n",
    "median_len = np.median(mfcc_len)\n",
    "padded_mfccs = []\n",
    "for mfcc in all_mfccs:\n",
    "  if mfcc.shape[1] < median_len:\n",
    "    pad_width = int(median_len - mfcc.shape[1])\n",
    "    padded_mfcc = np.pad(mfcc, ((0, 0), (0, pad_width)), mode='constant')\n",
    "  else:\n",
    "    padded_mfcc = mfcc[:, :int(median_len)]\n",
    "  padded_mfccs.append(padded_mfcc)"
   ]
  },
  {
   "cell_type": "code",
   "execution_count": 25,
   "metadata": {},
   "outputs": [],
   "source": [
    "with open(\"all_mfccs\", \"wb\") as f:\n",
    "    pickle.dump(all_mfccs, f)\n",
    "with open(\"padded_mfccs\", \"wb\") as f:\n",
    "    pickle.dump(padded_mfccs, f)"
   ]
  },
  {
   "cell_type": "code",
   "execution_count": null,
   "metadata": {},
   "outputs": [],
   "source": [
    "mfcc_stats = []\n",
    "\n",
    "for i in range(len(all_mfccs)):\n",
    "    stats = []\n",
    "    mfcc_data = all_mfccs[i]\n",
    "    if (i % 100) == 0:\n",
    "        print(f\"Processing {i}th mfcc\")\n",
    "    for j in range(mfcc_data.shape[0]):\n",
    "        x = mfcc_data[j, :]\n",
    "        mean = np.mean(x)\n",
    "        std = np.std(x)\n",
    "        maxv = np.amax(x)\n",
    "        minv = np.amin(x)\n",
    "        median = np.median(x)\n",
    "        skew = scipy.stats.skew(x)\n",
    "        kurt = scipy.stats.kurtosis(x)\n",
    "        q1 = np.quantile(x, 0.25)\n",
    "        q3 = np.quantile(x, 0.75)\n",
    "        iqr = scipy.stats.iqr(x)\n",
    "        stats.extend([mean, std, maxv, minv, median, skew, kurt, q1, q3, iqr])\n",
    "    mfcc_stats.append(stats)"
   ]
  },
  {
   "cell_type": "code",
   "execution_count": 28,
   "metadata": {},
   "outputs": [],
   "source": [
    "with open(\"mfcc_stats\", \"wb\") as f:\n",
    "    pickle.dump(mfcc_stats, f)"
   ]
  },
  {
   "cell_type": "code",
   "execution_count": null,
   "metadata": {},
   "outputs": [],
   "source": [
    "X = np.concatenate((all_features, mfcc_stats), axis=1)\n",
    "y = dftrain['age_encoded'].values"
   ]
  },
  {
   "cell_type": "code",
   "execution_count": null,
   "metadata": {},
   "outputs": [],
   "source": [
    "X_train, X_test, y_train, y_test = train_test_split(X, y, test_size=0.2, random_state=42)\n",
    "\n",
    "selector = SelectKBest(score_func=f_classif, k=50)\n",
    "X_train_selected = selector.fit_transform(X_train, y_train)\n",
    "\n",
    "X_test_selected = selector.transform(X_test)\n",
    "\n",
    "selected_feature_indices = selector.get_support(indices=True)"
   ]
  },
  {
   "cell_type": "code",
   "execution_count": null,
   "metadata": {},
   "outputs": [],
   "source": [
    "scaler = StandardScaler()\n",
    "X_train_sel_scaled = scaler.fit_transform(X_train_selected)\n",
    "X_val_sel_scaled = scaler.transform(X_test_selected)"
   ]
  },
  {
   "cell_type": "code",
   "execution_count": null,
   "metadata": {},
   "outputs": [],
   "source": [
    "svm_params = {\n",
    "    'C': np.logspace(-3, 3, 10),\n",
    "    'gamma': np.logspace(-4, 1, 10)\n",
    "}\n",
    "svm = GridSearchCV(SVC(kernel='rbf'), svm_params, cv=5, n_jobs=-1)\n",
    "svm.fit(X_train_sel_scaled, y_train)"
   ]
  },
  {
   "cell_type": "code",
   "execution_count": 63,
   "metadata": {},
   "outputs": [
    {
     "name": "stdout",
     "output_type": "stream",
     "text": [
      "Best RBF SVM Parameters: {'C': np.float64(2.154434690031882), 'gamma': np.float64(0.05994842503189409)}\n"
     ]
    }
   ],
   "source": [
    "best_svm_rbf_model = svm.best_estimator_\n",
    "print(f\"Best RBF SVM Parameters: {svm.best_params_}\")"
   ]
  },
  {
   "cell_type": "code",
   "execution_count": null,
   "metadata": {},
   "outputs": [],
   "source": [
    "sigmoid_params = {\n",
    "    'C': np.logspace(-3, 3, 10),\n",
    "    'gamma': np.logspace(-3, 3, 10),\n",
    "    'coef0': np.logspace(-3, 3, 10)\n",
    "}\n",
    "svm_sigmoid = SVC(kernel='sigmoid', random_state=42)\n",
    "sigmoid_grid_search = GridSearchCV(estimator=svm_sigmoid, param_grid=sigmoid_params, cv=5, n_jobs=-1, scoring='accuracy')\n",
    "sigmoid_grid_search.fit(X_train_sel_scaled, y_train)"
   ]
  },
  {
   "cell_type": "code",
   "execution_count": null,
   "metadata": {},
   "outputs": [],
   "source": [
    "logreg_params = {\n",
    "    'C': np.logspace(-3, 3, 10)\n",
    "}\n",
    "logreg = GridSearchCV(LogisticRegression(max_iter=1000), logreg_params, cv=5, n_jobs=-1)\n",
    "logreg.fit(X_train_sel_scaled, y_train)\n",
    "y_train_pred = logreg.predict(X_train_sel_scaled)"
   ]
  },
  {
   "cell_type": "code",
   "execution_count": null,
   "metadata": {},
   "outputs": [],
   "source": [
    "nb = GaussianNB()\n",
    "nb.fit(X_train_selected, y_train)\n",
    "y_train_pred = nb.predict(X_train_selected)"
   ]
  },
  {
   "cell_type": "code",
   "execution_count": null,
   "metadata": {},
   "outputs": [],
   "source": [
    "dt_params = {\n",
    "    'max_depth': [None, 5, 10, 20, 50],\n",
    "    'min_samples_split': [2, 5, 10],\n",
    "    'min_samples_leaf': [1, 2, 4],\n",
    "    'criterion': ['gini', 'entropy']\n",
    "}\n",
    "\n",
    "dt = DecisionTreeClassifier(random_state=42)\n",
    "\n",
    "dt_grid_search = GridSearchCV(estimator=dt, param_grid=dt_params, cv=5, n_jobs=-1, scoring='accuracy')\n",
    "dt_grid_search.fit(X_train_sel_scaled, y_train)\n",
    "\n",
    "best_dt_model = dt_grid_search.best_estimator_\n",
    "print(f\"Best Decision Tree Parameters: {dt_grid_search.best_params_}\")"
   ]
  },
  {
   "cell_type": "code",
   "execution_count": null,
   "metadata": {},
   "outputs": [],
   "source": [
    "knn_params = {\n",
    "    'n_neighbors': [3, 5, 7, 10, 15, 20],\n",
    "    'weights': ['uniform', 'distance'],\n",
    "    'metric': ['euclidean', 'manhattan', 'minkowski']\n",
    "}\n",
    "\n",
    "knn = KNeighborsClassifier()\n",
    "\n",
    "knn_grid_search = GridSearchCV(estimator=knn, param_grid=knn_params, cv=5, n_jobs=-1, scoring='accuracy')\n",
    "knn_grid_search.fit(X_train_sel_scaled, y_train)\n",
    "\n",
    "# --- Step 4: Hyperparameter Search for Random Forest ---\n",
    "rf_params = {\n",
    "    'n_estimators': [50, 100, 200, 300],\n",
    "    'max_depth': [None, 10, 20, 30, 40],\n",
    "    'min_samples_split': [2, 5, 10],\n",
    "    'min_samples_leaf': [1, 2, 4],\n",
    "    'criterion': ['gini', 'entropy']\n",
    "}"
   ]
  },
  {
   "cell_type": "code",
   "execution_count": null,
   "metadata": {},
   "outputs": [],
   "source": [
    "# Initialize the Random Forest model\n",
    "rf = RandomForestClassifier(random_state=42)\n",
    "\n",
    "# Perform GridSearchCV with 5-fold cross-validation\n",
    "rf_grid_search = GridSearchCV(estimator=rf, param_grid=rf_params, cv=5, n_jobs=-1, scoring='accuracy')\n",
    "rf_grid_search.fit(X_train_sel_scaled, y_train)"
   ]
  },
  {
   "cell_type": "code",
   "execution_count": null,
   "metadata": {},
   "outputs": [
    {
     "name": "stdout",
     "output_type": "stream",
     "text": [
      "\n",
      "SVM Performance on Test Set\n",
      "Test Accuracy: 0.6636\n",
      "\n",
      "Classification Report:\n",
      "              precision    recall  f1-score   support\n",
      "\n",
      "           0       0.70      0.64      0.67       380\n",
      "           1       0.60      0.71      0.65       324\n",
      "           2       0.69      0.65      0.67       366\n",
      "\n",
      "    accuracy                           0.66      1070\n",
      "   macro avg       0.67      0.67      0.66      1070\n",
      "weighted avg       0.67      0.66      0.66      1070\n",
      "\n",
      "Confusion Matrix:\n",
      "[[242  82  56]\n",
      " [ 44 230  50]\n",
      " [ 59  69 238]]\n"
     ]
    }
   ],
   "source": [
    "X_test_sel_scaled = scaler.transform(X_test_selected)\n",
    "y_test_pred = svm.predict(X_test_sel_scaled)\n",
    "test_acc = accuracy_score(y_test, y_test_pred)\n",
    "conf_matrix = confusion_matrix(y_test, y_test_pred)\n",
    "report = classification_report(y_test, y_test_pred)\n",
    "\n",
    "print(\"\\nSVM Performance on Test Set\")\n",
    "print(f\"Test Accuracy: {test_acc:.4f}\")\n",
    "print(\"\\nClassification Report:\")\n",
    "print(report)\n",
    "print(\"Confusion Matrix:\")\n",
    "print(conf_matrix)"
   ]
  },
  {
   "cell_type": "code",
   "execution_count": null,
   "metadata": {},
   "outputs": [
    {
     "name": "stdout",
     "output_type": "stream",
     "text": [
      "              precision    recall  f1-score   support\n",
      "\n",
      "       adult       0.70      0.64      0.67       380\n",
      "  middle-age       0.60      0.71      0.65       324\n",
      "       youth       0.69      0.65      0.67       366\n",
      "\n",
      "    accuracy                           0.66      1070\n",
      "   macro avg       0.67      0.67      0.66      1070\n",
      "weighted avg       0.67      0.66      0.66      1070\n",
      "\n"
     ]
    },
    {
     "data": {
      "image/png": "[encoded data removed]",
      "text/plain": [
       "<Figure size 1000x800 with 2 Axes>"
      ]
     },
     "metadata": {},
     "output_type": "display_data"
    }
   ],
   "source": [
    "print(classification_report(\n",
    "    y_test,\n",
    "    y_test_pred,\n",
    "    target_names=label_encoder.classes_\n",
    "))\n",
    "\n",
    "cm = confusion_matrix(y_test, y_test_pred)\n",
    "plt.figure(figsize=(10, 8))\n",
    "sns.heatmap(cm, annot=True, cmap='Blues', fmt='g',\n",
    "            xticklabels=label_encoder.classes_,\n",
    "            yticklabels=label_encoder.classes_)\n",
    "plt.xlabel('Predicted')\n",
    "plt.ylabel('Actual')\n",
    "plt.title('Confusion Matrix')\n",
    "plt.show()"
   ]
  },
  {
   "cell_type": "code",
   "execution_count": null,
   "metadata": {},
   "outputs": [
    {
     "data": {
      "text/plain": [
       "['svm_rbf_pipeline.joblib']"
      ]
     },
     "execution_count": 49,
     "metadata": {},
     "output_type": "execute_result"
    }
   ],
   "source": [
    "svm_pipeline = Pipeline([\n",
    "    ('selector', selector), \n",
    "    ('scaler', scaler),\n",
    "    ('svm', svm.best_estimator_)\n",
    "])\n",
    "\n",
    "joblib.dump(svm_pipeline, 'svm_rbf_pipeline.joblib')\n"
   ]
  }
 ],
 "metadata": {
  "kernelspec": {
   "display_name": ".venv",
   "language": "python",
   "name": "python3"
  },
  "language_info": {
   "codemirror_mode": {
    "name": "ipython",
    "version": 3
   },
   "file_extension": ".py",
   "mimetype": "text/x-python",
   "name": "python",
   "nbconvert_exporter": "python",
   "pygments_lexer": "ipython3",
   "version": "3.9.18"
  },
  "orig_nbformat": 4
 },
 "nbformat": 4,
 "nbformat_minor": 2
}
