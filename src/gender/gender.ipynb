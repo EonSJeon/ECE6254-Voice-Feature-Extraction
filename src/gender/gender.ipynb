{
 "cells": [
  {
   "cell_type": "code",
   "execution_count": 4,
   "metadata": {},
   "outputs": [],
   "source": [
    "# Imports\n",
    "\n",
    "import numpy as np\n",
    "import pandas as pd\n",
    "import matplotlib.pyplot as plt\n",
    "import seaborn as sns\n",
    "import os\n",
    "import librosa\n",
    "import librosa.display\n",
    "import gc\n",
    "import scipy\n",
    "\n",
    "from sklearn.preprocessing import LabelEncoder"
   ]
  },
  {
   "cell_type": "code",
   "execution_count": 5,
   "metadata": {},
   "outputs": [
    {
     "name": "stdout",
     "output_type": "stream",
     "text": [
      "gender\n",
      "male      31899\n",
      "female    11225\n",
      "Name: count, dtype: int64\n",
      "cv-valid-train\\cv-valid-train/sample-158120.mp3\n",
      "43124\n"
     ]
    }
   ],
   "source": [
    "# === df_train + df_valid ===\n",
    "BASE_DIR = '/Users/zhaos/Downloads/archive'\n",
    "RAW_DATA_DIR = os.path.join(BASE_DIR, 'raw_data')\n",
    "TRAIN_CSV_PATH = os.path.join(RAW_DATA_DIR, 'cv-valid-train.csv')\n",
    "\n",
    "\n",
    "datasets = ['cv-valid-train']\n",
    "df_combined = []\n",
    "\n",
    "for dataset in datasets:\n",
    "    csv_file = os.path.join(BASE_DIR, f'{dataset}.csv')\n",
    "    dftrain = pd.read_csv(csv_file)\n",
    "    if (dataset == 'cv-valid-train'):\n",
    "        dftrain = dftrain[dftrain['filename'] <= \"cv-valid-train/sample-158122.mp3\"]\n",
    "\n",
    "    # Drop rows with missing gender\n",
    "    dftrain = dftrain.dropna(subset=['gender'])\n",
    "\n",
    "    # Drop rows with missing age\n",
    "    dftrain = dftrain.dropna(subset=['age'])\n",
    "    valid_ages = ['teens', 'twenties', 'thirties', 'fourties', 'fifties', 'sixties']\n",
    "    dftrain = dftrain[dftrain['age'].isin(valid_ages)]\n",
    "    \n",
    "    dftrain = dftrain[dftrain['gender'].isin(['male', 'female'])]\n",
    "\n",
    "    # Drop unused 'duration' column (100% NaN in some releases)\n",
    "    if 'duration' in dftrain.columns:\n",
    "        dftrain = dftrain.drop('duration', axis=1, errors='ignore')\n",
    "\n",
    "    # Drop rows with missing accent\n",
    "    dftrain = dftrain.dropna(subset=['accent'])\n",
    "    valid_accents = ['england', 'indian', 'australia', 'scotland', 'us', 'ireland']\n",
    "    dftrain = dftrain[dftrain['accent'].isin(valid_accents)]\n",
    "    for index, row in dftrain.iterrows():\n",
    "        dftrain.at[index, 'filename'] = os.path.join(dataset, row['filename'])\n",
    "        if row['age'] in ['teen', 'twenties']:\n",
    "            dftrain.at[index, 'age'] = 'youth'\n",
    "        elif row['age'] in ['thirties', 'forties']:\n",
    "            dftrain.at[index, 'age'] = 'adult'\n",
    "        else:\n",
    "            dftrain.at[index, 'age'] = 'middle-age'\n",
    "    df_combined.append(dftrain)\n",
    "\n",
    "dftrain = pd.concat(df_combined, ignore_index=True)\n",
    "\n",
    "print(dftrain.value_counts('gender'))\n",
    "print(dftrain['filename'].max())\n",
    "dfbalanced = pd.concat([dftrain[dftrain['gender']=='male'][:10000], dftrain[dftrain['gender']=='female'][:10000]])\n",
    "\n",
    "print(len(dftrain))"
   ]
  },
  {
   "cell_type": "code",
   "execution_count": 98,
   "metadata": {},
   "outputs": [
    {
     "data": {
      "image/png": "[encoded data removed]",
      "text/plain": [
       "<Figure size 640x480 with 1 Axes>"
      ]
     },
     "metadata": {},
     "output_type": "display_data"
    }
   ],
   "source": [
    "plt.hist((dftrain['age'], dftrain['gender'], dftrain['accent']))\n",
    "plt.show()"
   ]
  },
  {
   "cell_type": "code",
   "execution_count": 6,
   "metadata": {},
   "outputs": [
    {
     "name": "stdout",
     "output_type": "stream",
     "text": [
      "gender\n",
      "1    10000\n",
      "0    10000\n",
      "Name: count, dtype: int64\n",
      "['female' 'male']\n"
     ]
    }
   ],
   "source": [
    "label_encoder = LabelEncoder()\n",
    "dfbalanced['gender'] = label_encoder.fit_transform(dfbalanced['gender'])\n",
    "print(dfbalanced['gender'].value_counts())\n",
    "print(label_encoder.classes_)"
   ]
  },
  {
   "cell_type": "code",
   "execution_count": 5,
   "metadata": {},
   "outputs": [
    {
     "name": "stdout",
     "output_type": "stream",
     "text": [
      "Extracting MFCCs for training set:\n"
     ]
    },
    {
     "name": "stderr",
     "output_type": "stream",
     "text": [
      "Train MFCCs:  70%|███████████████████████████████████████████▉                   | 13929/20000 [06:16<02:43, 37.04it/s]\n"
     ]
    },
    {
     "ename": "KeyboardInterrupt",
     "evalue": "",
     "output_type": "error",
     "traceback": [
      "\u001b[1;31m---------------------------------------------------------------------------\u001b[0m",
      "\u001b[1;31mKeyboardInterrupt\u001b[0m                         Traceback (most recent call last)",
      "Cell \u001b[1;32mIn[5], line 34\u001b[0m\n\u001b[0;32m     32\u001b[0m \u001b[38;5;28;01mfor\u001b[39;00m idx, row \u001b[38;5;129;01min\u001b[39;00m tqdm(dfbalanced\u001b[38;5;241m.\u001b[39miterrows(), total\u001b[38;5;241m=\u001b[39m\u001b[38;5;28mlen\u001b[39m(dfbalanced), desc\u001b[38;5;241m=\u001b[39m\u001b[38;5;124m\"\u001b[39m\u001b[38;5;124mTrain MFCCs\u001b[39m\u001b[38;5;124m\"\u001b[39m):\n\u001b[0;32m     33\u001b[0m     path \u001b[38;5;241m=\u001b[39m os\u001b[38;5;241m.\u001b[39mpath\u001b[38;5;241m.\u001b[39mjoin(BASE_DIR, row[\u001b[38;5;124m'\u001b[39m\u001b[38;5;124mfilename\u001b[39m\u001b[38;5;124m'\u001b[39m])\n\u001b[1;32m---> 34\u001b[0m     audio, mfcc \u001b[38;5;241m=\u001b[39m extract_mfcc(path)\n\u001b[0;32m     35\u001b[0m     all_mfccs_train\u001b[38;5;241m.\u001b[39mappend(mfcc)\n\u001b[0;32m     36\u001b[0m     audios\u001b[38;5;241m.\u001b[39mappend(audio)\n",
      "Cell \u001b[1;32mIn[5], line 13\u001b[0m, in \u001b[0;36mextract_mfcc\u001b[1;34m(file_path, n_mfcc)\u001b[0m\n\u001b[0;32m     12\u001b[0m \u001b[38;5;28;01mdef\u001b[39;00m \u001b[38;5;21mextract_mfcc\u001b[39m(file_path, n_mfcc\u001b[38;5;241m=\u001b[39m\u001b[38;5;241m20\u001b[39m):\n\u001b[1;32m---> 13\u001b[0m     audio, sr \u001b[38;5;241m=\u001b[39m librosa\u001b[38;5;241m.\u001b[39mload(file_path)\n\u001b[0;32m     14\u001b[0m     win_length \u001b[38;5;241m=\u001b[39m \u001b[38;5;28mint\u001b[39m(\u001b[38;5;241m0.025\u001b[39m \u001b[38;5;241m*\u001b[39m sr)   \u001b[38;5;66;03m# 25ms window length\u001b[39;00m\n\u001b[0;32m     15\u001b[0m     hop_length \u001b[38;5;241m=\u001b[39m \u001b[38;5;28mint\u001b[39m(\u001b[38;5;241m0.01\u001b[39m \u001b[38;5;241m*\u001b[39m sr)    \u001b[38;5;66;03m# 10ms hop length\u001b[39;00m\n",
      "File \u001b[1;32m~\\anaconda3\\Lib\\site-packages\\librosa\\core\\audio.py:176\u001b[0m, in \u001b[0;36mload\u001b[1;34m(path, sr, mono, offset, duration, dtype, res_type)\u001b[0m\n\u001b[0;32m    173\u001b[0m \u001b[38;5;28;01melse\u001b[39;00m:\n\u001b[0;32m    174\u001b[0m     \u001b[38;5;66;03m# Otherwise try soundfile first, and then fall back if necessary\u001b[39;00m\n\u001b[0;32m    175\u001b[0m     \u001b[38;5;28;01mtry\u001b[39;00m:\n\u001b[1;32m--> 176\u001b[0m         y, sr_native \u001b[38;5;241m=\u001b[39m __soundfile_load(path, offset, duration, dtype)\n\u001b[0;32m    178\u001b[0m     \u001b[38;5;28;01mexcept\u001b[39;00m sf\u001b[38;5;241m.\u001b[39mSoundFileRuntimeError \u001b[38;5;28;01mas\u001b[39;00m exc:\n\u001b[0;32m    179\u001b[0m         \u001b[38;5;66;03m# If soundfile failed, try audioread instead\u001b[39;00m\n\u001b[0;32m    180\u001b[0m         \u001b[38;5;28;01mif\u001b[39;00m \u001b[38;5;28misinstance\u001b[39m(path, (\u001b[38;5;28mstr\u001b[39m, pathlib\u001b[38;5;241m.\u001b[39mPurePath)):\n",
      "File \u001b[1;32m~\\anaconda3\\Lib\\site-packages\\librosa\\core\\audio.py:209\u001b[0m, in \u001b[0;36m__soundfile_load\u001b[1;34m(path, offset, duration, dtype)\u001b[0m\n\u001b[0;32m    206\u001b[0m     context \u001b[38;5;241m=\u001b[39m path\n\u001b[0;32m    207\u001b[0m \u001b[38;5;28;01melse\u001b[39;00m:\n\u001b[0;32m    208\u001b[0m     \u001b[38;5;66;03m# Otherwise, create the soundfile object\u001b[39;00m\n\u001b[1;32m--> 209\u001b[0m     context \u001b[38;5;241m=\u001b[39m sf\u001b[38;5;241m.\u001b[39mSoundFile(path)\n\u001b[0;32m    211\u001b[0m \u001b[38;5;28;01mwith\u001b[39;00m context \u001b[38;5;28;01mas\u001b[39;00m sf_desc:\n\u001b[0;32m    212\u001b[0m     sr_native \u001b[38;5;241m=\u001b[39m sf_desc\u001b[38;5;241m.\u001b[39msamplerate\n",
      "File \u001b[1;32m~\\anaconda3\\Lib\\site-packages\\soundfile.py:690\u001b[0m, in \u001b[0;36mSoundFile.__init__\u001b[1;34m(self, file, mode, samplerate, channels, subtype, endian, format, closefd, compression_level, bitrate_mode)\u001b[0m\n\u001b[0;32m    687\u001b[0m \u001b[38;5;28mself\u001b[39m\u001b[38;5;241m.\u001b[39m_bitrate_mode \u001b[38;5;241m=\u001b[39m bitrate_mode\n\u001b[0;32m    688\u001b[0m \u001b[38;5;28mself\u001b[39m\u001b[38;5;241m.\u001b[39m_info \u001b[38;5;241m=\u001b[39m _create_info_struct(file, mode, samplerate, channels,\n\u001b[0;32m    689\u001b[0m                                  \u001b[38;5;28mformat\u001b[39m, subtype, endian)\n\u001b[1;32m--> 690\u001b[0m \u001b[38;5;28mself\u001b[39m\u001b[38;5;241m.\u001b[39m_file \u001b[38;5;241m=\u001b[39m \u001b[38;5;28mself\u001b[39m\u001b[38;5;241m.\u001b[39m_open(file, mode_int, closefd)\n\u001b[0;32m    691\u001b[0m \u001b[38;5;28;01mif\u001b[39;00m \u001b[38;5;28mset\u001b[39m(mode)\u001b[38;5;241m.\u001b[39missuperset(\u001b[38;5;124m'\u001b[39m\u001b[38;5;124mr+\u001b[39m\u001b[38;5;124m'\u001b[39m) \u001b[38;5;129;01mand\u001b[39;00m \u001b[38;5;28mself\u001b[39m\u001b[38;5;241m.\u001b[39mseekable():\n\u001b[0;32m    692\u001b[0m     \u001b[38;5;66;03m# Move write position to 0 (like in Python file objects)\u001b[39;00m\n\u001b[0;32m    693\u001b[0m     \u001b[38;5;28mself\u001b[39m\u001b[38;5;241m.\u001b[39mseek(\u001b[38;5;241m0\u001b[39m)\n",
      "File \u001b[1;32m~\\anaconda3\\Lib\\site-packages\\soundfile.py:1254\u001b[0m, in \u001b[0;36mSoundFile._open\u001b[1;34m(self, file, mode_int, closefd)\u001b[0m\n\u001b[0;32m   1252\u001b[0m         \u001b[38;5;28;01melse\u001b[39;00m:\n\u001b[0;32m   1253\u001b[0m             file \u001b[38;5;241m=\u001b[39m file\u001b[38;5;241m.\u001b[39mencode(_sys\u001b[38;5;241m.\u001b[39mgetfilesystemencoding())\n\u001b[1;32m-> 1254\u001b[0m     file_ptr \u001b[38;5;241m=\u001b[39m openfunction(file, mode_int, \u001b[38;5;28mself\u001b[39m\u001b[38;5;241m.\u001b[39m_info)\n\u001b[0;32m   1255\u001b[0m \u001b[38;5;28;01melif\u001b[39;00m \u001b[38;5;28misinstance\u001b[39m(file, \u001b[38;5;28mint\u001b[39m):\n\u001b[0;32m   1256\u001b[0m     file_ptr \u001b[38;5;241m=\u001b[39m _snd\u001b[38;5;241m.\u001b[39msf_open_fd(file, mode_int, \u001b[38;5;28mself\u001b[39m\u001b[38;5;241m.\u001b[39m_info, closefd)\n",
      "\u001b[1;31mKeyboardInterrupt\u001b[0m: "
     ]
    }
   ],
   "source": [
    "import os\n",
    "import librosa\n",
    "import numpy as np\n",
    "from tensorflow.keras.utils import to_categorical\n",
    "import gc\n",
    "from tqdm import tqdm\n",
    "\n",
    "# Ensure RAW_DATA_DIR is defined (the folder containing your audio files)\n",
    "# For example:\n",
    "# RAW_DATA_DIR = '/path/to/your/audio/files'\n",
    "\n",
    "def extract_mfcc(file_path, n_mfcc=20):\n",
    "    audio, sr = librosa.load(file_path)\n",
    "    win_length = int(0.025 * sr)   # 25ms window length\n",
    "    hop_length = int(0.01 * sr)    # 10ms hop length\n",
    "    n_fft = win_length           # Using window length as n_fft (can be adjusted)\n",
    "    mfccs = librosa.feature.mfcc(\n",
    "        y=audio,\n",
    "        sr=sr,\n",
    "        n_mfcc=n_mfcc,\n",
    "        n_fft=n_fft,\n",
    "        hop_length=hop_length,\n",
    "        win_length=win_length,\n",
    "        window='hann'\n",
    "    )\n",
    "    return (audio, mfccs)\n",
    "\n",
    "# === Process Training Data (df_balanced) ===\n",
    "all_mfccs_train = []\n",
    "audios = []\n",
    "print(\"Extracting MFCCs for training set:\")\n",
    "for idx, row in tqdm(dfbalanced.iterrows(), total=len(dfbalanced), desc=\"Train MFCCs\"):\n",
    "    path = os.path.join(BASE_DIR, row['filename'])\n",
    "    audio, mfcc = extract_mfcc(path)\n",
    "    all_mfccs_train.append(mfcc)\n",
    "    audios.append(audio)\n",
    "\n",
    "# === Process Validation Data (df_valid) ===\n",
    "'''all_mfccs_valid = []\n",
    "print(\"Extracting MFCCs for validation set:\")\n",
    "for idx, row in tqdm(df_valid.iterrows(), total=len(df_valid), desc=\"Valid MFCCs\"):\n",
    "    path = os.path.join(RAW_DATA_DIR, row['filename'])\n",
    "    mfcc = extract_mfcc(path)\n",
    "    all_mfccs_valid.append(mfcc)\n",
    "\n",
    "# === Process Test Data (df_test) ===\n",
    "all_mfccs_test = []\n",
    "print(\"Extracting MFCCs for test set:\")\n",
    "for idx, row in tqdm(df_test.iterrows(), total=len(df_test), desc=\"Test MFCCs\"):\n",
    "    path = os.path.join(RAW_DATA_DIR, row['filename'])\n",
    "    mfcc = extract_mfcc(path)\n",
    "    all_mfccs_test.append(mfcc)'''\n",
    "\n",
    "gc.collect()\n",
    "\n",
    "\n",
    "gc.collect()\n"
   ]
  },
  {
   "cell_type": "code",
   "execution_count": 12,
   "metadata": {},
   "outputs": [],
   "source": [
    "import pickle\n",
    "\n",
    "with open('all_mfccs.pickle', 'wb') as f:\n",
    "    pickle.dump(all_mfccs_train, f)"
   ]
  },
  {
   "cell_type": "code",
   "execution_count": 7,
   "metadata": {},
   "outputs": [],
   "source": [
    "import pickle\n",
    "\n",
    "with open('all_mfccs.pickle', 'rb') as f:\n",
    "    all_mfccs_train = pickle.load(f)"
   ]
  },
  {
   "cell_type": "code",
   "execution_count": 92,
   "metadata": {},
   "outputs": [
    {
     "data": {
      "text/plain": [
       "<function matplotlib.pyplot.show(close=None, block=None)>"
      ]
     },
     "execution_count": 92,
     "metadata": {},
     "output_type": "execute_result"
    },
    {
     "data": {
      "image/png": "[encoded data removed]",
      "text/plain": [
       "<Figure size 640x480 with 2 Axes>"
      ]
     },
     "metadata": {},
     "output_type": "display_data"
    }
   ],
   "source": [
    "librosa.display.specshow(all_mfccs_train[1000], x_axis='time')\n",
    "plt.colorbar()\n",
    "plt.tight_layout()\n",
    "plt.title('mfcc')\n",
    "plt.show"
   ]
  },
  {
   "cell_type": "code",
   "execution_count": 8,
   "metadata": {},
   "outputs": [
    {
     "name": "stdout",
     "output_type": "stream",
     "text": [
      "Median time frames (train+valid): 378\n"
     ]
    }
   ],
   "source": [
    "time_frames_train = [mfcc.shape[1] for mfcc in all_mfccs_train]\n",
    "all_time_frames = time_frames_train\n",
    "median_time_frames = int(np.median(all_time_frames))\n",
    "print(\"Median time frames (train+valid):\", median_time_frames)\n",
    "\n",
    "# Pad or truncate MFCCs to have the same number of time frames (equal to the median)\n",
    "def pad_or_truncate(mfcc, target_length):\n",
    "    if mfcc.shape[1] < target_length:\n",
    "        padded = np.pad(mfcc, ((0, 0), (0, target_length - mfcc.shape[1])), mode='constant')\n",
    "    else:\n",
    "        padded = mfcc[:, :target_length]\n",
    "    return padded\n",
    "\n",
    "padded_mfccs_train = [pad_or_truncate(mfcc, median_time_frames) for mfcc in all_mfccs_train]"
   ]
  },
  {
   "cell_type": "code",
   "execution_count": 9,
   "metadata": {},
   "outputs": [
    {
     "name": "stdout",
     "output_type": "stream",
     "text": [
      "Processing 0th mfcc\n",
      "Processing 100th mfcc\n",
      "Processing 200th mfcc\n",
      "Processing 300th mfcc\n",
      "Processing 400th mfcc\n",
      "Processing 500th mfcc\n",
      "Processing 600th mfcc\n",
      "Processing 700th mfcc\n",
      "Processing 800th mfcc\n",
      "Processing 900th mfcc\n",
      "Processing 1000th mfcc\n",
      "Processing 1100th mfcc\n",
      "Processing 1200th mfcc\n",
      "Processing 1300th mfcc\n",
      "Processing 1400th mfcc\n",
      "Processing 1500th mfcc\n",
      "Processing 1600th mfcc\n",
      "Processing 1700th mfcc\n",
      "Processing 1800th mfcc\n",
      "Processing 1900th mfcc\n",
      "Processing 2000th mfcc\n",
      "Processing 2100th mfcc\n",
      "Processing 2200th mfcc\n",
      "Processing 2300th mfcc\n",
      "Processing 2400th mfcc\n",
      "Processing 2500th mfcc\n",
      "Processing 2600th mfcc\n",
      "Processing 2700th mfcc\n",
      "Processing 2800th mfcc\n",
      "Processing 2900th mfcc\n",
      "Processing 3000th mfcc\n",
      "Processing 3100th mfcc\n",
      "Processing 3200th mfcc\n",
      "Processing 3300th mfcc\n",
      "Processing 3400th mfcc\n",
      "Processing 3500th mfcc\n",
      "Processing 3600th mfcc\n",
      "Processing 3700th mfcc\n",
      "Processing 3800th mfcc\n",
      "Processing 3900th mfcc\n",
      "Processing 4000th mfcc\n",
      "Processing 4100th mfcc\n",
      "Processing 4200th mfcc\n",
      "Processing 4300th mfcc\n",
      "Processing 4400th mfcc\n",
      "Processing 4500th mfcc\n",
      "Processing 4600th mfcc\n",
      "Processing 4700th mfcc\n",
      "Processing 4800th mfcc\n",
      "Processing 4900th mfcc\n",
      "Processing 5000th mfcc\n",
      "Processing 5100th mfcc\n",
      "Processing 5200th mfcc\n",
      "Processing 5300th mfcc\n",
      "Processing 5400th mfcc\n",
      "Processing 5500th mfcc\n",
      "Processing 5600th mfcc\n",
      "Processing 5700th mfcc\n",
      "Processing 5800th mfcc\n",
      "Processing 5900th mfcc\n",
      "Processing 6000th mfcc\n",
      "Processing 6100th mfcc\n",
      "Processing 6200th mfcc\n",
      "Processing 6300th mfcc\n",
      "Processing 6400th mfcc\n",
      "Processing 6500th mfcc\n",
      "Processing 6600th mfcc\n",
      "Processing 6700th mfcc\n",
      "Processing 6800th mfcc\n",
      "Processing 6900th mfcc\n",
      "Processing 7000th mfcc\n",
      "Processing 7100th mfcc\n",
      "Processing 7200th mfcc\n",
      "Processing 7300th mfcc\n",
      "Processing 7400th mfcc\n",
      "Processing 7500th mfcc\n",
      "Processing 7600th mfcc\n",
      "Processing 7700th mfcc\n",
      "Processing 7800th mfcc\n",
      "Processing 7900th mfcc\n",
      "Processing 8000th mfcc\n",
      "Processing 8100th mfcc\n",
      "Processing 8200th mfcc\n",
      "Processing 8300th mfcc\n",
      "Processing 8400th mfcc\n",
      "Processing 8500th mfcc\n",
      "Processing 8600th mfcc\n",
      "Processing 8700th mfcc\n",
      "Processing 8800th mfcc\n",
      "Processing 8900th mfcc\n",
      "Processing 9000th mfcc\n",
      "Processing 9100th mfcc\n",
      "Processing 9200th mfcc\n",
      "Processing 9300th mfcc\n",
      "Processing 9400th mfcc\n",
      "Processing 9500th mfcc\n",
      "Processing 9600th mfcc\n",
      "Processing 9700th mfcc\n",
      "Processing 9800th mfcc\n",
      "Processing 9900th mfcc\n",
      "Processing 10000th mfcc\n",
      "Processing 10100th mfcc\n",
      "Processing 10200th mfcc\n",
      "Processing 10300th mfcc\n",
      "Processing 10400th mfcc\n",
      "Processing 10500th mfcc\n",
      "Processing 10600th mfcc\n",
      "Processing 10700th mfcc\n",
      "Processing 10800th mfcc\n",
      "Processing 10900th mfcc\n",
      "Processing 11000th mfcc\n",
      "Processing 11100th mfcc\n",
      "Processing 11200th mfcc\n",
      "Processing 11300th mfcc\n",
      "Processing 11400th mfcc\n",
      "Processing 11500th mfcc\n",
      "Processing 11600th mfcc\n",
      "Processing 11700th mfcc\n",
      "Processing 11800th mfcc\n",
      "Processing 11900th mfcc\n",
      "Processing 12000th mfcc\n",
      "Processing 12100th mfcc\n",
      "Processing 12200th mfcc\n",
      "Processing 12300th mfcc\n",
      "Processing 12400th mfcc\n",
      "Processing 12500th mfcc\n",
      "Processing 12600th mfcc\n",
      "Processing 12700th mfcc\n",
      "Processing 12800th mfcc\n",
      "Processing 12900th mfcc\n",
      "Processing 13000th mfcc\n",
      "Processing 13100th mfcc\n",
      "Processing 13200th mfcc\n",
      "Processing 13300th mfcc\n",
      "Processing 13400th mfcc\n",
      "Processing 13500th mfcc\n",
      "Processing 13600th mfcc\n",
      "Processing 13700th mfcc\n",
      "Processing 13800th mfcc\n",
      "Processing 13900th mfcc\n",
      "Processing 14000th mfcc\n",
      "Processing 14100th mfcc\n",
      "Processing 14200th mfcc\n",
      "Processing 14300th mfcc\n",
      "Processing 14400th mfcc\n",
      "Processing 14500th mfcc\n",
      "Processing 14600th mfcc\n",
      "Processing 14700th mfcc\n",
      "Processing 14800th mfcc\n",
      "Processing 14900th mfcc\n",
      "Processing 15000th mfcc\n",
      "Processing 15100th mfcc\n",
      "Processing 15200th mfcc\n",
      "Processing 15300th mfcc\n",
      "Processing 15400th mfcc\n",
      "Processing 15500th mfcc\n",
      "Processing 15600th mfcc\n",
      "Processing 15700th mfcc\n",
      "Processing 15800th mfcc\n",
      "Processing 15900th mfcc\n",
      "Processing 16000th mfcc\n",
      "Processing 16100th mfcc\n",
      "Processing 16200th mfcc\n",
      "Processing 16300th mfcc\n",
      "Processing 16400th mfcc\n",
      "Processing 16500th mfcc\n",
      "Processing 16600th mfcc\n",
      "Processing 16700th mfcc\n",
      "Processing 16800th mfcc\n",
      "Processing 16900th mfcc\n",
      "Processing 17000th mfcc\n",
      "Processing 17100th mfcc\n",
      "Processing 17200th mfcc\n",
      "Processing 17300th mfcc\n",
      "Processing 17400th mfcc\n",
      "Processing 17500th mfcc\n",
      "Processing 17600th mfcc\n",
      "Processing 17700th mfcc\n",
      "Processing 17800th mfcc\n",
      "Processing 17900th mfcc\n",
      "Processing 18000th mfcc\n",
      "Processing 18100th mfcc\n",
      "Processing 18200th mfcc\n",
      "Processing 18300th mfcc\n",
      "Processing 18400th mfcc\n",
      "Processing 18500th mfcc\n",
      "Processing 18600th mfcc\n",
      "Processing 18700th mfcc\n",
      "Processing 18800th mfcc\n",
      "Processing 18900th mfcc\n",
      "Processing 19000th mfcc\n",
      "Processing 19100th mfcc\n",
      "Processing 19200th mfcc\n",
      "Processing 19300th mfcc\n",
      "Processing 19400th mfcc\n",
      "Processing 19500th mfcc\n",
      "Processing 19600th mfcc\n",
      "Processing 19700th mfcc\n",
      "Processing 19800th mfcc\n",
      "Processing 19900th mfcc\n"
     ]
    }
   ],
   "source": [
    "mfcc_stats = []\n",
    "all_mfccs = padded_mfccs_train\n",
    "for i in range(len(all_mfccs)):\n",
    "    stats = []\n",
    "    mfcc_data = all_mfccs[i]\n",
    "    if (i % 100) == 0:\n",
    "        print(f\"Processing {i}th mfcc\")\n",
    "    for j in range(mfcc_data.shape[0]):\n",
    "        x = mfcc_data[j, :]\n",
    "        mean = np.mean(x)\n",
    "        std = np.std(x)\n",
    "        maxv = np.amax(x)\n",
    "        minv = np.amin(x)\n",
    "        median = np.median(x)\n",
    "        skew = scipy.stats.skew(x)\n",
    "        kurt = scipy.stats.kurtosis(x)\n",
    "        q1 = np.quantile(x, 0.25)\n",
    "        q3 = np.quantile(x, 0.75)\n",
    "        iqr = scipy.stats.iqr(x)\n",
    "        stats.extend([mean, std, maxv, minv, median, skew, kurt, q1, q3, iqr])\n",
    "    mfcc_stats.append(stats)"
   ]
  },
  {
   "cell_type": "code",
   "execution_count": 10,
   "metadata": {},
   "outputs": [],
   "source": [
    "x = mfcc_stats\n",
    "y = dfbalanced['gender']"
   ]
  },
  {
   "cell_type": "code",
   "execution_count": 11,
   "metadata": {},
   "outputs": [],
   "source": [
    "from sklearn.model_selection import train_test_split\n",
    "from sklearn.svm import SVC\n",
    "X_train, X_test, y_train, y_test = train_test_split(x, y, test_size=0.4, shuffle=True)"
   ]
  },
  {
   "cell_type": "code",
   "execution_count": 17,
   "metadata": {},
   "outputs": [
    {
     "name": "stdout",
     "output_type": "stream",
     "text": [
      "0\n",
      "Training KNN\n",
      "Training SVM\n",
      "Training Random Forest\n",
      "1\n",
      "Training KNN\n",
      "Training SVM\n",
      "Training Random Forest\n",
      "2\n",
      "Training KNN\n",
      "Training SVM\n",
      "Training Random Forest\n",
      "3\n",
      "Training KNN\n",
      "Training SVM\n",
      "Training Random Forest\n",
      "4\n",
      "Training KNN\n",
      "Training SVM\n",
      "Training Random Forest\n",
      "{'KNN': 4.202916666666667, 'SVM': 4.391666666666667, 'Random Forest': 4.46375, 'XGBoost': 4.571666666666666}\n"
     ]
    }
   ],
   "source": [
    "from sklearn.model_selection import StratifiedKFold, GridSearchCV\n",
    "from sklearn.neighbors import KNeighborsClassifier\n",
    "from sklearn.ensemble import RandomForestClassifier\n",
    "import xgboost as xgb\n",
    "from sklearn.metrics import mean_squared_error, accuracy_score\n",
    "\n",
    "model_performance = {}\n",
    "model_performance['KNN'] = 0\n",
    "model_performance['SVM'] = 0\n",
    "model_performance['Random Forest'] = 0\n",
    "model_performance['XGBoost'] = 0\n",
    "\n",
    "skf = StratifiedKFold(n_splits=5)\n",
    "skf.get_n_splits(X_train, y_train)\n",
    "for i, (train_index, validate_index) in enumerate(skf.split(X_train, y_train)):\n",
    "    print(i)\n",
    "    x_train_split = np.array([X_train[i] for i in train_index])\n",
    "    y_train_split = np.array([y_train.iloc[i] for i in train_index])\n",
    "    x_valid_split = np.array([X_train[i] for i in validate_index])\n",
    "    y_valid_split = np.array([y_train.iloc[i] for i in validate_index])\n",
    "\n",
    "    print(\"Training KNN\")\n",
    "    knn = KNeighborsClassifier(n_neighbors=5)\n",
    "    p_grid = {\"n_neighbors\": [5, 10, 50, 100]}\n",
    "    clf = GridSearchCV(estimator=knn, param_grid=p_grid, cv = StratifiedKFold(n_splits=5, shuffle = True))\n",
    "    clf.fit(x_train_split, y_train_split)\n",
    "    y_pred_knn = clf.predict(x_valid_split)\n",
    "    acc_knn = accuracy_score(y_valid_split, y_pred_knn)\n",
    "    model_performance['KNN'] += acc_knn\n",
    "\n",
    "    print(\"Training SVM\")\n",
    "    svm = SVC(kernel='rbf', C=1.0, random_state=42)\n",
    "    p_grid = {\"C\": [1, 1.5, 2, 5, 10]}\n",
    "    clf = GridSearchCV(estimator=svm, param_grid=p_grid, cv = StratifiedKFold(n_splits=5, shuffle = True))\n",
    "    clf.fit(x_train_split, y_train_split)\n",
    "    y_pred_svm = clf.predict(x_valid_split)\n",
    "    acc_svm = accuracy_score(y_valid_split, y_pred_svm)\n",
    "    model_performance['SVM'] += acc_svm\n",
    "\n",
    "    print(\"Training Random Forest\")\n",
    "    rf = RandomForestClassifier(n_estimators=100, random_state=42)\n",
    "    p_grid = {\"max_depth\": [10, 20, 30, 40, 50], \"min_samples_split\": [2, 3, 4, 5, 6]}\n",
    "    clf = GridSearchCV(estimator=rf, param_grid=p_grid, cv = StratifiedKFold(n_splits=5, shuffle = True))\n",
    "    clf.fit(x_train_split, y_train_split)\n",
    "    y_pred_rf = clf.predict(x_valid_split)\n",
    "    acc_rf = accuracy_score(y_valid_split, y_pred_rf)\n",
    "    model_performance['Random Forest'] += acc_rf\n",
    "\n",
    "    xgb_clf = xgb.XGBClassifier(n_estimators=100, learning_rate=0.1,\n",
    "                            random_state=42,\n",
    "                            eval_metric='mlogloss')\n",
    "    xgb_clf.fit(x_train_split, y_train_split)\n",
    "    y_pred_xgb = xgb_clf.predict(x_valid_split)\n",
    "    acc_xgb = accuracy_score(y_valid_split, y_pred_xgb)\n",
    "    model_performance['XGBoost'] += acc_xgb\n",
    "print(model_performance)"
   ]
  },
  {
   "cell_type": "code",
   "execution_count": 23,
   "metadata": {},
   "outputs": [
    {
     "name": "stdout",
     "output_type": "stream",
     "text": [
      "              precision    recall  f1-score   support\n",
      "\n",
      "           0       0.93      0.94      0.94      4002\n",
      "           1       0.94      0.93      0.94      3998\n",
      "\n",
      "    accuracy                           0.94      8000\n",
      "   macro avg       0.94      0.94      0.94      8000\n",
      "weighted avg       0.94      0.94      0.94      8000\n",
      "\n",
      "[[3773  229]\n",
      " [ 270 3728]]\n"
     ]
    }
   ],
   "source": [
    "from sklearn.metrics import classification_report, confusion_matrix\n",
    "xgb_clf = xgb.XGBClassifier(n_estimators=10000, learning_rate=0.1,\n",
    "                            random_state=42,\n",
    "                            eval_metric='mlogloss')\n",
    "xgb_clf.fit(X_train, y_train)\n",
    "y_pred = xgb_clf.predict(X_test)\n",
    "print(classification_report(y_test, y_pred))\n",
    "print(confusion_matrix(y_test, y_pred))"
   ]
  },
  {
   "cell_type": "code",
   "execution_count": 24,
   "metadata": {},
   "outputs": [
    {
     "data": {
      "image/png": "[encoded data removed]",
      "text/plain": [
       "<Figure size 1000x800 with 2 Axes>"
      ]
     },
     "metadata": {},
     "output_type": "display_data"
    }
   ],
   "source": [
    "plt.figure(figsize=(10, 8))\n",
    "sns.heatmap(confusion_matrix(y_test, y_pred), annot=True, cmap='Blues', fmt='d', xticklabels=['female', 'male'], yticklabels=['female', 'male'])\n",
    "plt.xlabel('Predicted')\n",
    "plt.ylabel('Actual')\n",
    "plt.title('Confusion Matrix')\n",
    "plt.show()"
   ]
  },
  {
   "cell_type": "code",
   "execution_count": null,
   "metadata": {},
   "outputs": [],
   "source": []
  }
 ],
 "metadata": {
  "kernelspec": {
   "display_name": "Python 3 (ipykernel)",
   "language": "python",
   "name": "python3"
  },
  "language_info": {
   "codemirror_mode": {
    "name": "ipython",
    "version": 3
   },
   "file_extension": ".py",
   "mimetype": "text/x-python",
   "name": "python",
   "nbconvert_exporter": "python",
   "pygments_lexer": "ipython3",
   "version": "3.11.11"
  }
 },
 "nbformat": 4,
 "nbformat_minor": 4
}
